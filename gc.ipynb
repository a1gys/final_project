{
 "cells": [
  {
   "cell_type": "code",
   "execution_count": 2,
   "metadata": {},
   "outputs": [
    {
     "name": "stderr",
     "output_type": "stream",
     "text": [
      "Matplotlib is building the font cache; this may take a moment.\n"
     ]
    }
   ],
   "source": [
    "import numpy as np\n",
    "import pandas as pd\n",
    "from matplotlib import pyplot as plt"
   ]
  },
  {
   "cell_type": "code",
   "execution_count": 6,
   "metadata": {},
   "outputs": [],
   "source": [
    "BASES = [\"A\", \"G\", \"C\", \"T\", \"U\"]\n",
    "\n",
    "def gc_ratio(genom: str, step: int = 100) -> float:\n",
    "    base_count = {}\n",
    "\n",
    "    for base in BASES:\n",
    "        count = genom.count(base)\n",
    "        base_count[base] = count\n",
    "\n",
    "    return (base_count[\"C\"] + base_count[\"G\"]) / sum(base_count.values()) * 100"
   ]
  },
  {
   "cell_type": "code",
   "execution_count": 7,
   "metadata": {},
   "outputs": [
    {
     "name": "stdout",
     "output_type": "stream",
     "text": [
      "52.38095238095239\n"
     ]
    }
   ],
   "source": [
    "print(gc_ratio(\"AGCGGAGTGTCGATGCTAGTA\"))"
   ]
  }
 ],
 "metadata": {
  "kernelspec": {
   "display_name": "Python 3.10.2 ('final_project': venv)",
   "language": "python",
   "name": "python3"
  },
  "language_info": {
   "codemirror_mode": {
    "name": "ipython",
    "version": 3
   },
   "file_extension": ".py",
   "mimetype": "text/x-python",
   "name": "python",
   "nbconvert_exporter": "python",
   "pygments_lexer": "ipython3",
   "version": "3.10.2"
  },
  "orig_nbformat": 4,
  "vscode": {
   "interpreter": {
    "hash": "e41614e44a53bc7a613db60a9ce9a6202c4093feef1618fdf1457277b8176459"
   }
  }
 },
 "nbformat": 4,
 "nbformat_minor": 2
}
