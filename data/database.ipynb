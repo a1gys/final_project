{
 "cells": [
  {
   "cell_type": "code",
   "execution_count": 1,
   "metadata": {},
   "outputs": [],
   "source": [
    "from sqlalchemy import create_engine, ForeignKey, Column, String, Integer, CHAR\n",
    "from sqlalchemy.ext.declarative import declarative_base\n",
    "from sqlalchemy.orm import sessionmaker"
   ]
  },
  {
   "cell_type": "code",
   "execution_count": 2,
   "metadata": {},
   "outputs": [],
   "source": [
    "Base = declarative_base()"
   ]
  },
  {
   "cell_type": "code",
   "execution_count": 3,
   "metadata": {},
   "outputs": [],
   "source": [
    "class DNA(Base):\n",
    "    __tablename__ = \"dna_bases\"\n",
    "\n",
    "    id_ = Column(\"id\", Integer, primary_key=True)\n",
    "    base = Column(\"base\", CHAR)\n",
    "\n",
    "    def __init__(self, id_, base):\n",
    "        self.id_ = id_\n",
    "        self.base = base\n",
    "    \n",
    "    def __repr__(self):\n",
    "        return f\"{self.base}\""
   ]
  },
  {
   "cell_type": "code",
   "execution_count": 4,
   "metadata": {},
   "outputs": [
    {
     "name": "stdout",
     "output_type": "stream",
     "text": [
      "2022-11-12 21:53:51,998 INFO sqlalchemy.engine.Engine BEGIN (implicit)\n",
      "2022-11-12 21:53:52,000 INFO sqlalchemy.engine.Engine PRAGMA main.table_info(\"dna_bases\")\n",
      "2022-11-12 21:53:52,001 INFO sqlalchemy.engine.Engine [raw sql] ()\n",
      "2022-11-12 21:53:52,008 INFO sqlalchemy.engine.Engine PRAGMA temp.table_info(\"dna_bases\")\n",
      "2022-11-12 21:53:52,010 INFO sqlalchemy.engine.Engine [raw sql] ()\n",
      "2022-11-12 21:53:52,014 INFO sqlalchemy.engine.Engine \n",
      "CREATE TABLE dna_bases (\n",
      "\tid INTEGER NOT NULL, \n",
      "\tbase CHAR, \n",
      "\tPRIMARY KEY (id)\n",
      ")\n",
      "\n",
      "\n",
      "2022-11-12 21:53:52,016 INFO sqlalchemy.engine.Engine [no key 0.00267s] ()\n",
      "2022-11-12 21:53:52,273 INFO sqlalchemy.engine.Engine COMMIT\n"
     ]
    }
   ],
   "source": [
    "engine = create_engine(\"sqlite:///maindb.db\", echo=True)\n",
    "Base.metadata.create_all(bind=engine)"
   ]
  },
  {
   "cell_type": "code",
   "execution_count": 5,
   "metadata": {},
   "outputs": [],
   "source": [
    "Session = sessionmaker(bind=engine)\n",
    "session = Session()"
   ]
  },
  {
   "cell_type": "code",
   "execution_count": 6,
   "metadata": {},
   "outputs": [
    {
     "name": "stdout",
     "output_type": "stream",
     "text": [
      "2022-11-12 21:58:46,067 INFO sqlalchemy.engine.Engine BEGIN (implicit)\n",
      "2022-11-12 21:58:46,071 INFO sqlalchemy.engine.Engine INSERT INTO dna_bases (id, base) VALUES (?, ?)\n",
      "2022-11-12 21:58:46,072 INFO sqlalchemy.engine.Engine [generated in 0.00121s] ((1, 'A'), (2, 'T'), (3, 'C'), (4, 'G'))\n",
      "2022-11-12 21:58:47,215 INFO sqlalchemy.engine.Engine COMMIT\n"
     ]
    }
   ],
   "source": [
    "bases = [DNA(1, \"A\"), DNA(2, \"T\"), DNA(3, \"C\"), DNA(4, \"G\")]\n",
    "for base in bases:\n",
    "    session.add(base)\n",
    "session.commit()"
   ]
  },
  {
   "cell_type": "code",
   "execution_count": 7,
   "metadata": {},
   "outputs": [],
   "source": [
    "class RNA(Base):\n",
    "    __tablename__ = \"rna_bases\"\n",
    "\n",
    "    id_ = Column(\"id\", Integer, primary_key=True)\n",
    "    base = Column(\"base\", CHAR, ForeignKey(\"dna_bases.base\"))\n",
    "\n",
    "    def __init__(self, id_, base):\n",
    "        self.id_ = id_\n",
    "        self.base = base\n",
    "    \n",
    "    def __repr__(self):\n",
    "        return f\"{self.base}\""
   ]
  },
  {
   "cell_type": "code",
   "execution_count": 8,
   "metadata": {},
   "outputs": [
    {
     "name": "stdout",
     "output_type": "stream",
     "text": [
      "2022-11-12 22:05:20,741 INFO sqlalchemy.engine.Engine BEGIN (implicit)\n",
      "2022-11-12 22:05:20,742 INFO sqlalchemy.engine.Engine PRAGMA main.table_info(\"dna_bases\")\n",
      "2022-11-12 22:05:20,744 INFO sqlalchemy.engine.Engine [raw sql] ()\n",
      "2022-11-12 22:05:20,746 INFO sqlalchemy.engine.Engine PRAGMA main.table_info(\"rna_bases\")\n",
      "2022-11-12 22:05:20,747 INFO sqlalchemy.engine.Engine [raw sql] ()\n",
      "2022-11-12 22:05:20,749 INFO sqlalchemy.engine.Engine PRAGMA temp.table_info(\"rna_bases\")\n",
      "2022-11-12 22:05:20,751 INFO sqlalchemy.engine.Engine [raw sql] ()\n",
      "2022-11-12 22:05:20,754 INFO sqlalchemy.engine.Engine \n",
      "CREATE TABLE rna_bases (\n",
      "\tid INTEGER NOT NULL, \n",
      "\tbase CHAR, \n",
      "\tPRIMARY KEY (id), \n",
      "\tFOREIGN KEY(base) REFERENCES dna_bases (base)\n",
      ")\n",
      "\n",
      "\n",
      "2022-11-12 22:05:20,758 INFO sqlalchemy.engine.Engine [no key 0.00332s] ()\n",
      "2022-11-12 22:05:20,923 INFO sqlalchemy.engine.Engine COMMIT\n"
     ]
    }
   ],
   "source": [
    "Base.metadata.create_all(bind=engine)"
   ]
  },
  {
   "cell_type": "code",
   "execution_count": 9,
   "metadata": {},
   "outputs": [
    {
     "name": "stdout",
     "output_type": "stream",
     "text": [
      "2022-11-12 22:07:47,812 INFO sqlalchemy.engine.Engine BEGIN (implicit)\n",
      "2022-11-12 22:07:47,816 INFO sqlalchemy.engine.Engine INSERT INTO rna_bases (id, base) VALUES (?, ?)\n",
      "2022-11-12 22:07:47,817 INFO sqlalchemy.engine.Engine [generated in 0.00140s] ((1, 'A'), (2, 'U'), (3, 'C'), (4, 'G'))\n",
      "2022-11-12 22:07:47,821 INFO sqlalchemy.engine.Engine COMMIT\n"
     ]
    }
   ],
   "source": [
    "bases = [RNA(1, \"A\"), RNA(2, \"U\"), RNA(3, \"C\"), RNA(4, \"G\")]\n",
    "for base in bases:\n",
    "    session.add(base)\n",
    "session.commit()"
   ]
  },
  {
   "cell_type": "code",
   "execution_count": 11,
   "metadata": {},
   "outputs": [
    {
     "name": "stdout",
     "output_type": "stream",
     "text": [
      "{'UUU': 'F(Phe)', 'UUC': 'F(Phe)', 'UUA': 'Leu', 'UUG': 'Leu', 'CUU': 'Leu', 'CUC': 'Leu', 'CUA': 'Leu', 'CUG': 'Leu', 'UCU': 'Ser', 'UCC': 'Ser', 'UCA': 'Ser', 'UCG': 'Ser', 'AGU': 'Ser', 'AGC': 'Ser', 'UAU': 'Y(Tyr)', 'UAC': 'Y(Tyr)', 'UAA': 'Stop', 'UAG': 'Stop', 'UGA': 'Stop', 'UGU': 'Cys', 'UGC': 'Cys', 'UGG': 'W(Trp)', 'CCU': 'Pro', 'CCC': 'Pro', 'CCA': 'Pro', 'CCG': 'Pro', 'CAU': 'His', 'CAC': 'His', 'CAA': 'Q(Gln)', 'CAG': 'Q(Gln)', 'CGU': 'Arg', 'CGC': 'Arg', 'CGA': 'Arg', 'CGG': 'Arg', 'AGA': 'Arg', 'AGG': 'Arg', 'AUU': 'Ile', 'AUC': 'Ile', 'AUA': 'Ile', 'AUG': 'Met', 'ACU': 'Thr', 'ACC': 'Thr', 'ACA': 'Thr', 'ACG': 'Thr', 'AAU': 'N(Asn)', 'AAC': 'N(Asn)', 'AAA': 'K(Lys)', 'AAG': 'K(Lys)', 'GUU': 'Val', 'GUC': 'Val', 'GUA': 'Val', 'GUG': 'Val', 'GCU': 'Ala', 'GCC': 'Ala', 'GCA': 'Ala', 'GCG': 'Ala', 'GAU': 'D(Asp)', 'GAC': 'D(Asp)', 'GAA': 'E(Glu)', 'GAG': 'E(Glu)', 'GGU': 'Gly', 'GGC': 'Gly', 'GGA': 'Gly', 'GGG': 'Gly'}\n"
     ]
    }
   ],
   "source": [
    "from data import SEQUENCES\n",
    "\n",
    "print(SEQUENCES)"
   ]
  },
  {
   "cell_type": "code",
   "execution_count": 12,
   "metadata": {},
   "outputs": [],
   "source": [
    "class Aminoacid(Base):\n",
    "    __tablename__ = \"amino_acids\"\n",
    "\n",
    "    id_ = Column(\"id\", Integer, primary_key=True)\n",
    "    codon = Column(\"codon\", String)\n",
    "    aminoacid_sign = Column(\"aminoacid_symbol\", CHAR)\n",
    "\n",
    "    def __init__(self, id_, codon, symbol):\n",
    "        self.id_ = id_\n",
    "        self.codon = codon\n",
    "        self.aminoacid_sign = symbol\n",
    "    \n",
    "    def __repr__(self):\n",
    "        return f\"{self.codon} - {self.aminoacid_sign}\""
   ]
  },
  {
   "cell_type": "code",
   "execution_count": 13,
   "metadata": {},
   "outputs": [
    {
     "name": "stdout",
     "output_type": "stream",
     "text": [
      "2022-11-12 22:12:38,218 INFO sqlalchemy.engine.Engine BEGIN (implicit)\n",
      "2022-11-12 22:12:38,220 INFO sqlalchemy.engine.Engine PRAGMA main.table_info(\"dna_bases\")\n",
      "2022-11-12 22:12:38,221 INFO sqlalchemy.engine.Engine [raw sql] ()\n",
      "2022-11-12 22:12:38,223 INFO sqlalchemy.engine.Engine PRAGMA main.table_info(\"rna_bases\")\n",
      "2022-11-12 22:12:38,224 INFO sqlalchemy.engine.Engine [raw sql] ()\n",
      "2022-11-12 22:12:38,226 INFO sqlalchemy.engine.Engine PRAGMA main.table_info(\"amino_acids\")\n",
      "2022-11-12 22:12:38,227 INFO sqlalchemy.engine.Engine [raw sql] ()\n",
      "2022-11-12 22:12:38,229 INFO sqlalchemy.engine.Engine PRAGMA temp.table_info(\"amino_acids\")\n",
      "2022-11-12 22:12:38,231 INFO sqlalchemy.engine.Engine [raw sql] ()\n",
      "2022-11-12 22:12:38,233 INFO sqlalchemy.engine.Engine \n",
      "CREATE TABLE amino_acids (\n",
      "\tid INTEGER NOT NULL, \n",
      "\tcodon VARCHAR, \n",
      "\taminoacid_symbol CHAR, \n",
      "\tPRIMARY KEY (id)\n",
      ")\n",
      "\n",
      "\n",
      "2022-11-12 22:12:38,236 INFO sqlalchemy.engine.Engine [no key 0.00227s] ()\n",
      "2022-11-12 22:12:39,021 INFO sqlalchemy.engine.Engine COMMIT\n"
     ]
    }
   ],
   "source": [
    "Base.metadata.create_all(bind=engine)"
   ]
  },
  {
   "cell_type": "code",
   "execution_count": 26,
   "metadata": {},
   "outputs": [
    {
     "name": "stdout",
     "output_type": "stream",
     "text": [
      "{'UUU': 'F(Phe)', 'UUC': 'F(Phe)', 'UUA': 'Leu', 'UUG': 'Leu', 'CUU': 'Leu', 'CUC': 'Leu', 'CUA': 'Leu', 'CUG': 'Leu', 'UCU': 'Ser', 'UCC': 'Ser', 'UCA': 'Ser', 'UCG': 'Ser', 'AGU': 'Ser', 'AGC': 'Ser', 'UAU': 'Y(Tyr)', 'UAC': 'Y(Tyr)', 'UAA': 'Stop', 'UAG': 'Stop', 'UGA': 'Stop', 'UGU': 'Cys', 'UGC': 'Cys', 'UGG': 'W(Trp)', 'CCU': 'Pro', 'CCC': 'Pro', 'CCA': 'Pro', 'CCG': 'Pro', 'CAU': 'His', 'CAC': 'His', 'CAA': 'Q(Gln)', 'CAG': 'Q(Gln)', 'CGU': 'Arg', 'CGC': 'Arg', 'CGA': 'Arg', 'CGG': 'Arg', 'AGA': 'Arg', 'AGG': 'Arg', 'AUU': 'Ile', 'AUC': 'Ile', 'AUA': 'Ile', 'AUG': 'Met', 'ACU': 'Thr', 'ACC': 'Thr', 'ACA': 'Thr', 'ACG': 'Thr', 'AAU': 'N(Asn)', 'AAC': 'N(Asn)', 'AAA': 'K(Lys)', 'AAG': 'K(Lys)', 'GUU': 'Val', 'GUC': 'Val', 'GUA': 'Val', 'GUG': 'Val', 'GCU': 'Ala', 'GCC': 'Ala', 'GCA': 'Ala', 'GCG': 'Ala', 'GAU': 'D(Asp)', 'GAC': 'D(Asp)', 'GAA': 'E(Glu)', 'GAG': 'E(Glu)', 'GGU': 'Gly', 'GGC': 'Gly', 'GGA': 'Gly', 'GGG': 'Gly'}\n"
     ]
    }
   ],
   "source": [
    "from data import SEQUENCES as seq\n",
    "\n",
    "print(seq)"
   ]
  },
  {
   "cell_type": "code",
   "execution_count": 27,
   "metadata": {},
   "outputs": [],
   "source": [
    "aminoacids = []\n",
    "\n",
    "for (k, v), id_ in zip(seq.items(), range(1, len(seq) + 1)):\n",
    "    aminoacids.append(Aminoacid(id_, k, v[0]))"
   ]
  },
  {
   "cell_type": "code",
   "execution_count": 28,
   "metadata": {},
   "outputs": [
    {
     "data": {
      "text/plain": [
       "[UUU - F, UUC - F, UUA - L, UUG - L, CUU - L]"
      ]
     },
     "execution_count": 28,
     "metadata": {},
     "output_type": "execute_result"
    }
   ],
   "source": [
    "aminoacids[:5]"
   ]
  },
  {
   "cell_type": "code",
   "execution_count": null,
   "metadata": {},
   "outputs": [],
   "source": [
    "for aminoacid in aminoacids:\n",
    "    session.add(aminoacid)\n",
    "session.commit()"
   ]
  }
 ],
 "metadata": {
  "kernelspec": {
   "display_name": "Python 3.10.2 ('final_project': venv)",
   "language": "python",
   "name": "python3"
  },
  "language_info": {
   "codemirror_mode": {
    "name": "ipython",
    "version": 3
   },
   "file_extension": ".py",
   "mimetype": "text/x-python",
   "name": "python",
   "nbconvert_exporter": "python",
   "pygments_lexer": "ipython3",
   "version": "3.10.2"
  },
  "orig_nbformat": 4,
  "vscode": {
   "interpreter": {
    "hash": "e41614e44a53bc7a613db60a9ce9a6202c4093feef1618fdf1457277b8176459"
   }
  }
 },
 "nbformat": 4,
 "nbformat_minor": 2
}
