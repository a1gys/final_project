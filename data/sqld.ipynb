{
 "cells": [
  {
   "cell_type": "code",
   "execution_count": 1,
   "metadata": {},
   "outputs": [],
   "source": [
    "import sqlalchemy\n",
    "from sqlalchemy import text, create_engine"
   ]
  },
  {
   "cell_type": "code",
   "execution_count": 5,
   "metadata": {},
   "outputs": [],
   "source": [
    "engine = create_engine(\"sqlite+pysqlite:///:memory:\", echo=True, future=True)"
   ]
  },
  {
   "cell_type": "code",
   "execution_count": 6,
   "metadata": {},
   "outputs": [
    {
     "name": "stdout",
     "output_type": "stream",
     "text": [
      "2022-11-08 11:56:11,573 INFO sqlalchemy.engine.Engine BEGIN (implicit)\n",
      "2022-11-08 11:56:11,576 INFO sqlalchemy.engine.Engine CREATE TABLE dna_bases (id int, base str)\n",
      "2022-11-08 11:56:11,579 INFO sqlalchemy.engine.Engine [generated in 0.00278s] ()\n",
      "2022-11-08 11:56:11,581 INFO sqlalchemy.engine.Engine INSERT INTO dna_bases (id, base) VALUES (?, ?)\n",
      "2022-11-08 11:56:11,582 INFO sqlalchemy.engine.Engine [generated in 0.00154s] ((1, 'A'), (2, 'C'), (3, 'T'), (4, 'G'))\n",
      "2022-11-08 11:56:11,584 INFO sqlalchemy.engine.Engine COMMIT\n"
     ]
    }
   ],
   "source": [
    "with engine.begin() as conn:\n",
    "    conn.execute(text(\"CREATE TABLE dna_bases (id int, base str)\"))\n",
    "    conn.execute(text(\"INSERT INTO dna_bases (id, base) VALUES (:id, :base)\"), \n",
    "            [{\"id\": 1, \"base\": \"A\"}, {\"id\": 2, \"base\": \"C\"}, {\"id\": 3, \"base\": \"T\"}, {\"id\": 4, \"base\": \"G\"}])"
   ]
  },
  {
   "cell_type": "code",
   "execution_count": 7,
   "metadata": {},
   "outputs": [
    {
     "name": "stdout",
     "output_type": "stream",
     "text": [
      "2022-11-08 11:57:49,329 INFO sqlalchemy.engine.Engine BEGIN (implicit)\n",
      "2022-11-08 11:57:49,331 INFO sqlalchemy.engine.Engine SELECT id, base FROM dna_bases\n",
      "2022-11-08 11:57:49,332 INFO sqlalchemy.engine.Engine [generated in 0.00139s] ()\n",
      "id: 1    base: A\n",
      "id: 2    base: C\n",
      "id: 3    base: T\n",
      "id: 4    base: G\n",
      "2022-11-08 11:57:49,334 INFO sqlalchemy.engine.Engine COMMIT\n"
     ]
    }
   ],
   "source": [
    "with engine.begin() as conn:\n",
    "    result = conn.execute(text(\"SELECT id, base FROM dna_bases\"))\n",
    "    for row in result:\n",
    "        print(f\"id: {row.id}    base: {row.base}\")"
   ]
  },
  {
   "cell_type": "code",
   "execution_count": null,
   "metadata": {},
   "outputs": [],
   "source": [
    "from sqlalchemy.orm import Session\n",
    "\n",
    "stmt = text(\"SELECT id, base FROM dna_bases WHERE id > :id ORDER BY base, id\")\n",
    "with Session(engine) as session:\n",
    "    result = session.execute(stmt, {\"id\": 2})\n",
    "    for row in result:\n",
    "        print(f\"id: {row.id}    base: {row.base}\")"
   ]
  }
 ],
 "metadata": {
  "kernelspec": {
   "display_name": "Python 3.10.2 ('final_project': venv)",
   "language": "python",
   "name": "python3"
  },
  "language_info": {
   "codemirror_mode": {
    "name": "ipython",
    "version": 3
   },
   "file_extension": ".py",
   "mimetype": "text/x-python",
   "name": "python",
   "nbconvert_exporter": "python",
   "pygments_lexer": "ipython3",
   "version": "3.10.2"
  },
  "orig_nbformat": 4,
  "vscode": {
   "interpreter": {
    "hash": "e41614e44a53bc7a613db60a9ce9a6202c4093feef1618fdf1457277b8176459"
   }
  }
 },
 "nbformat": 4,
 "nbformat_minor": 2
}
